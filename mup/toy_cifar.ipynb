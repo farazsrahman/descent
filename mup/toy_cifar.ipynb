{
 "cells": [
  {
   "cell_type": "code",
   "execution_count": 23,
   "id": "80971829",
   "metadata": {},
   "outputs": [],
   "source": [
    "import torch\n",
    "import torch.nn as nn\n",
    "import torch.nn.functional as F\n",
    "from torchvision import datasets, transforms\n",
    "from torch.utils.data import TensorDataset, DataLoader\n",
    "\n",
    "import numpy as np\n",
    "from pyhessian import hessian\n",
    "from tqdm import tqdm\n",
    "import pandas as pd\n",
    "import os\n",
    "import matplotlib.pyplot as plt\n",
    "\n",
    "from train_mlp import muMLPTab9\n",
    "\n",
    "device = \"cuda\"\n",
    "os.environ[\"CUDA_VISIBLE_DEVICES\"] = \"1\""
   ]
  },
  {
   "cell_type": "code",
   "execution_count": null,
   "id": "e436cfc3",
   "metadata": {},
   "outputs": [],
   "source": [
    "def get_cifar(batch_size=128, num_classes=10, MSE=False, on_gpu=False, device=None):\n",
    "    assert np.unique(targets[indices]).shape[0] >= num_classes, f\"Number of classes {np.unique(targets[indices]).shape[0]} != {num_classes}\"\n",
    "    transform = transforms.Compose([\n",
    "        transforms.ToTensor(),\n",
    "        transforms.Normalize((0.5, 0.5, 0.5), (0.5, 0.5, 0.5)),\n",
    "    ])\n",
    "    \n",
    "    train_ds = datasets.CIFAR10(root='/tmp', train=True, download=False, transform=transform)\n",
    "    targets = np.array(train_ds.targets)\n",
    "    mask = np.isin(targets, np.arange(num_classes))\n",
    "    indices = np.where(mask)[0]\n",
    "\n",
    "\n",
    "    X, y = [], []\n",
    "    for i in tqdm(indices):\n",
    "        x, y_ = train_ds[i]\n",
    "        X.append(x)\n",
    "        y.append(y_)\n",
    "    X = torch.stack(X)\n",
    "    y = torch.tensor(y)\n",
    "\n",
    "    if MSE:\n",
    "        y = F.one_hot(y, num_classes=num_classes).float()\n",
    "\n",
    "    if on_gpu:\n",
    "        assert device is not None, \"Please provide a device=\"\n",
    "        X = X.to(device)\n",
    "        y = y.to(device)\n",
    "\n",
    "    tensor_ds = TensorDataset(X, y)\n",
    "    train_dl = DataLoader(tensor_ds, batch_size=batch_size, shuffle=True, pin_memory=not on_gpu)\n",
    "\n",
    "    if on_gpu:\n",
    "        print(f\"Estimated size of the dataset in MB: {(X.numel() * X.element_size() + y.numel() * y.element_size()) / 1024 / 1024:.2f}\")\n",
    "\n",
    "    return train_dl, tensor_ds\n"
   ]
  },
  {
   "cell_type": "code",
   "execution_count": 42,
   "id": "7bc8f232",
   "metadata": {},
   "outputs": [],
   "source": [
    "seed = 1\n",
    "epochs = 5\n",
    "classes = 2"
   ]
  },
  {
   "cell_type": "markdown",
   "id": "1f5f0bf8",
   "metadata": {},
   "source": [
    "# Tensors loaded on GPU per batch"
   ]
  },
  {
   "cell_type": "code",
   "execution_count": 43,
   "id": "e664fba2",
   "metadata": {},
   "outputs": [
    {
     "name": "stderr",
     "output_type": "stream",
     "text": [
      "100%|██████████| 10000/10000 [00:02<00:00, 4600.45it/s]\n"
     ]
    },
    {
     "name": "stdout",
     "output_type": "stream",
     "text": [
      "79\n",
      "torch.Size([128])\n",
      "0.6877436098098755\n",
      "0.6252798287391662\n",
      "0.5944725264549255\n",
      "0.5714316897392273\n",
      "0.553438679933548\n"
     ]
    }
   ],
   "source": [
    "dl, ds = get_cifar(batch_size=128, num_classes=classes, MSE=False, on_gpu=False)\n",
    "print(len(dl))\n",
    "\n",
    "torch.manual_seed(seed)\n",
    "np.random.seed(seed)\n",
    "print(next(iter(dl))[1].shape)\n",
    "model = muMLPTab9(128, classes).to(device)\n",
    "criterion = nn.CrossEntropyLoss()\n",
    "\n",
    "model.train()\n",
    "optimizer = torch.optim.SGD(model.parameters(), lr=0.001)\n",
    "for epoch in range(epochs):\n",
    "    epoch_loss = 0\n",
    "    for i, (X, y) in enumerate(dl):\n",
    "        X, y = X.to(device), y.to(device)\n",
    "        optimizer.zero_grad()\n",
    "        out = model(X)\n",
    "        loss = criterion(out, y)\n",
    "        loss.backward()\n",
    "        optimizer.step()\n",
    "        epoch_loss += loss.item() * X.size(0)\n",
    "    print(epoch_loss / len(dl.dataset))"
   ]
  },
  {
   "cell_type": "code",
   "execution_count": 44,
   "id": "833799d3",
   "metadata": {},
   "outputs": [
    {
     "name": "stdout",
     "output_type": "stream",
     "text": [
      "torch.Size([128])\n",
      "0.6877436098098755\n",
      "0.6252798287391662\n",
      "0.5944725264549255\n",
      "0.5714316897392273\n",
      "0.553438679933548\n"
     ]
    }
   ],
   "source": [
    "torch.manual_seed(seed)\n",
    "np.random.seed(seed)\n",
    "print(next(iter(dl))[1].shape)\n",
    "model = muMLPTab9(128, classes).to(device)\n",
    "criterion = nn.CrossEntropyLoss()\n",
    "\n",
    "model.train()\n",
    "optimizer = torch.optim.SGD(model.parameters(), lr=0.001)\n",
    "for epoch in range(epochs):\n",
    "    epoch_loss = 0\n",
    "    for i, (X, y) in enumerate(dl):\n",
    "        X, y = X.to(device), y.to(device)\n",
    "        optimizer.zero_grad()\n",
    "        out = model(X)\n",
    "        loss = criterion(out, y)\n",
    "        loss.backward()\n",
    "        optimizer.step()\n",
    "        epoch_loss += loss.item() * X.size(0)\n",
    "    print(epoch_loss / len(dl.dataset))"
   ]
  },
  {
   "cell_type": "markdown",
   "id": "bb2aca19",
   "metadata": {},
   "source": [
    "# Tensors on GPU"
   ]
  },
  {
   "cell_type": "code",
   "execution_count": 46,
   "id": "6fbdc7c7",
   "metadata": {},
   "outputs": [
    {
     "name": "stderr",
     "output_type": "stream",
     "text": [
      "100%|██████████| 10000/10000 [00:02<00:00, 4246.00it/s]\n"
     ]
    },
    {
     "name": "stdout",
     "output_type": "stream",
     "text": [
      "Estimated size of the dataset in MB: 117.26\n",
      "79\n",
      "torch.Size([128])\n",
      "0.6877436098098755\n",
      "0.6252798287391662\n",
      "0.5944725264549255\n",
      "0.5714316897392273\n",
      "0.553438679933548\n"
     ]
    }
   ],
   "source": [
    "dl, ds = get_cifar(batch_size=128, num_classes=classes, MSE=False, on_gpu=True, device=device)\n",
    "print(len(dl))\n",
    "\n",
    "torch.manual_seed(seed)\n",
    "np.random.seed(seed)\n",
    "print(next(iter(dl))[1].shape)\n",
    "model = muMLPTab9(128, classes).to(device)\n",
    "criterion = nn.CrossEntropyLoss()\n",
    "\n",
    "model.train()\n",
    "optimizer = torch.optim.SGD(model.parameters(), lr=0.001)\n",
    "for epoch in range(epochs):\n",
    "    epoch_loss = 0\n",
    "    for i, (X, y) in enumerate(dl):\n",
    "        optimizer.zero_grad()\n",
    "        out = model(X)\n",
    "        loss = criterion(out, y)\n",
    "        loss.backward()\n",
    "        optimizer.step()\n",
    "        epoch_loss += loss.item() * X.size(0)\n",
    "    print(epoch_loss / len(dl.dataset))"
   ]
  },
  {
   "cell_type": "code",
   "execution_count": 47,
   "id": "885c8058",
   "metadata": {},
   "outputs": [
    {
     "name": "stdout",
     "output_type": "stream",
     "text": [
      "torch.Size([128])\n",
      "0.6877436098098755\n",
      "0.6252798287391662\n",
      "0.5944725264549255\n",
      "0.5714316897392273\n",
      "0.553438679933548\n"
     ]
    }
   ],
   "source": [
    "torch.manual_seed(seed)\n",
    "np.random.seed(seed)\n",
    "print(next(iter(dl))[1].shape)\n",
    "model = muMLPTab9(128, classes).to(device)\n",
    "criterion = nn.CrossEntropyLoss()\n",
    "\n",
    "model.train()\n",
    "optimizer = torch.optim.SGD(model.parameters(), lr=0.001)\n",
    "for epoch in range(epochs):\n",
    "    epoch_loss = 0\n",
    "    for i, (X, y) in enumerate(dl):\n",
    "        optimizer.zero_grad()\n",
    "        out = model(X)\n",
    "        loss = criterion(out, y)\n",
    "        loss.backward()\n",
    "        optimizer.step()\n",
    "        epoch_loss += loss.item() * X.size(0)\n",
    "    print(epoch_loss / len(dl.dataset))"
   ]
  },
  {
   "cell_type": "markdown",
   "id": "82cbb43f",
   "metadata": {},
   "source": [
    "# MSE + on GPU"
   ]
  },
  {
   "cell_type": "code",
   "execution_count": 48,
   "id": "bb6bf0a8",
   "metadata": {},
   "outputs": [
    {
     "name": "stderr",
     "output_type": "stream",
     "text": [
      "100%|██████████| 10000/10000 [00:02<00:00, 4303.08it/s]\n"
     ]
    },
    {
     "name": "stdout",
     "output_type": "stream",
     "text": [
      "Estimated size of the dataset in MB: 117.26\n",
      "79\n",
      "torch.Size([128, 2])\n",
      "0.6868212818145752\n",
      "0.4809396454811096\n",
      "0.4108572193145752\n",
      "0.36817205924987795\n",
      "0.33871090376377105\n"
     ]
    }
   ],
   "source": [
    "dl, ds = get_cifar(batch_size=128, num_classes=classes, MSE=True, on_gpu=True, device=device)\n",
    "print(len(dl))\n",
    "\n",
    "torch.manual_seed(seed)\n",
    "np.random.seed(seed)\n",
    "print(next(iter(dl))[1].shape)\n",
    "model = muMLPTab9(128, classes).to(device)\n",
    "criterion = nn.MSELoss()\n",
    "\n",
    "model.train()\n",
    "optimizer = torch.optim.SGD(model.parameters(), lr=0.001)\n",
    "for epoch in range(epochs):\n",
    "    epoch_loss = 0\n",
    "    for i, (X, y) in enumerate(dl):\n",
    "        X, y = X.to(device), y.to(device)\n",
    "        optimizer.zero_grad()\n",
    "        out = model(X)\n",
    "        loss = criterion(out, y)\n",
    "        loss.backward()\n",
    "        optimizer.step()\n",
    "        epoch_loss += loss.item() * X.size(0)\n",
    "    print(epoch_loss / len(dl.dataset))"
   ]
  },
  {
   "cell_type": "code",
   "execution_count": 49,
   "id": "f4b6f840",
   "metadata": {},
   "outputs": [
    {
     "name": "stdout",
     "output_type": "stream",
     "text": [
      "torch.Size([128, 2])\n",
      "0.6868212818145752\n",
      "0.4809396454811096\n",
      "0.4108572193145752\n",
      "0.36817205924987795\n",
      "0.33871090376377105\n"
     ]
    }
   ],
   "source": [
    "torch.manual_seed(seed)\n",
    "np.random.seed(seed)\n",
    "print(next(iter(dl))[1].shape)\n",
    "model = muMLPTab9(128, classes).to(device)\n",
    "criterion = nn.MSELoss()\n",
    "\n",
    "model.train()\n",
    "optimizer = torch.optim.SGD(model.parameters(), lr=0.001)\n",
    "for epoch in range(epochs):\n",
    "    epoch_loss = 0\n",
    "    for i, (X, y) in enumerate(dl):\n",
    "        X, y = X.to(device), y.to(device)\n",
    "        optimizer.zero_grad()\n",
    "        out = model(X)\n",
    "        loss = criterion(out, y)\n",
    "        loss.backward()\n",
    "        optimizer.step()\n",
    "        epoch_loss += loss.item() * X.size(0)\n",
    "    print(epoch_loss / len(dl.dataset))"
   ]
  },
  {
   "cell_type": "code",
   "execution_count": null,
   "id": "81cc3ae4",
   "metadata": {},
   "outputs": [],
   "source": []
  }
 ],
 "metadata": {
  "kernelspec": {
   "display_name": "mup-abc",
   "language": "python",
   "name": "python3"
  },
  "language_info": {
   "codemirror_mode": {
    "name": "ipython",
    "version": 3
   },
   "file_extension": ".py",
   "mimetype": "text/x-python",
   "name": "python",
   "nbconvert_exporter": "python",
   "pygments_lexer": "ipython3",
   "version": "3.11.12"
  }
 },
 "nbformat": 4,
 "nbformat_minor": 5
}
